{
 "cells": [
  {
   "cell_type": "code",
   "execution_count": 106,
   "id": "fcf10eba",
   "metadata": {},
   "outputs": [],
   "source": [
    "import pandas as pd\n",
    "from sklearn.ensemble import RandomForestClassifier\n",
    "from sklearn.model_selection import train_test_split\n",
    "from sklearn.preprocessing import LabelEncoder\n",
    "from sklearn.preprocessing import StandardScaler\n",
    "from sklearn.metrics import accuracy_score"
   ]
  },
  {
   "cell_type": "code",
   "execution_count": 36,
   "id": "f0505157",
   "metadata": {},
   "outputs": [],
   "source": [
    "file = pd.read_csv('heart.csv')"
   ]
  },
  {
   "cell_type": "code",
   "execution_count": 38,
   "id": "e18017c1",
   "metadata": {
    "collapsed": true
   },
   "outputs": [
    {
     "data": {
      "text/html": [
       "<div>\n",
       "<style scoped>\n",
       "    .dataframe tbody tr th:only-of-type {\n",
       "        vertical-align: middle;\n",
       "    }\n",
       "\n",
       "    .dataframe tbody tr th {\n",
       "        vertical-align: top;\n",
       "    }\n",
       "\n",
       "    .dataframe thead th {\n",
       "        text-align: right;\n",
       "    }\n",
       "</style>\n",
       "<table border=\"1\" class=\"dataframe\">\n",
       "  <thead>\n",
       "    <tr style=\"text-align: right;\">\n",
       "      <th></th>\n",
       "      <th>Age</th>\n",
       "      <th>Sex</th>\n",
       "      <th>ChestPainType</th>\n",
       "      <th>RestingBP</th>\n",
       "      <th>Cholesterol</th>\n",
       "      <th>FastingBS</th>\n",
       "      <th>RestingECG</th>\n",
       "      <th>MaxHR</th>\n",
       "      <th>ExerciseAngina</th>\n",
       "      <th>Oldpeak</th>\n",
       "      <th>ST_Slope</th>\n",
       "      <th>HeartDisease</th>\n",
       "    </tr>\n",
       "  </thead>\n",
       "  <tbody>\n",
       "    <tr>\n",
       "      <th>740</th>\n",
       "      <td>54</td>\n",
       "      <td>F</td>\n",
       "      <td>NAP</td>\n",
       "      <td>160</td>\n",
       "      <td>201</td>\n",
       "      <td>0</td>\n",
       "      <td>Normal</td>\n",
       "      <td>163</td>\n",
       "      <td>N</td>\n",
       "      <td>0.0</td>\n",
       "      <td>Up</td>\n",
       "      <td>0</td>\n",
       "    </tr>\n",
       "    <tr>\n",
       "      <th>151</th>\n",
       "      <td>48</td>\n",
       "      <td>M</td>\n",
       "      <td>ATA</td>\n",
       "      <td>100</td>\n",
       "      <td>159</td>\n",
       "      <td>0</td>\n",
       "      <td>Normal</td>\n",
       "      <td>100</td>\n",
       "      <td>N</td>\n",
       "      <td>0.0</td>\n",
       "      <td>Up</td>\n",
       "      <td>0</td>\n",
       "    </tr>\n",
       "    <tr>\n",
       "      <th>660</th>\n",
       "      <td>58</td>\n",
       "      <td>M</td>\n",
       "      <td>NAP</td>\n",
       "      <td>140</td>\n",
       "      <td>211</td>\n",
       "      <td>1</td>\n",
       "      <td>LVH</td>\n",
       "      <td>165</td>\n",
       "      <td>N</td>\n",
       "      <td>0.0</td>\n",
       "      <td>Up</td>\n",
       "      <td>0</td>\n",
       "    </tr>\n",
       "    <tr>\n",
       "      <th>562</th>\n",
       "      <td>59</td>\n",
       "      <td>M</td>\n",
       "      <td>ASY</td>\n",
       "      <td>140</td>\n",
       "      <td>274</td>\n",
       "      <td>0</td>\n",
       "      <td>Normal</td>\n",
       "      <td>154</td>\n",
       "      <td>Y</td>\n",
       "      <td>2.0</td>\n",
       "      <td>Flat</td>\n",
       "      <td>0</td>\n",
       "    </tr>\n",
       "    <tr>\n",
       "      <th>355</th>\n",
       "      <td>67</td>\n",
       "      <td>M</td>\n",
       "      <td>TA</td>\n",
       "      <td>145</td>\n",
       "      <td>0</td>\n",
       "      <td>0</td>\n",
       "      <td>LVH</td>\n",
       "      <td>125</td>\n",
       "      <td>N</td>\n",
       "      <td>0.0</td>\n",
       "      <td>Flat</td>\n",
       "      <td>1</td>\n",
       "    </tr>\n",
       "    <tr>\n",
       "      <th>259</th>\n",
       "      <td>55</td>\n",
       "      <td>F</td>\n",
       "      <td>ATA</td>\n",
       "      <td>122</td>\n",
       "      <td>320</td>\n",
       "      <td>0</td>\n",
       "      <td>Normal</td>\n",
       "      <td>155</td>\n",
       "      <td>N</td>\n",
       "      <td>0.0</td>\n",
       "      <td>Up</td>\n",
       "      <td>0</td>\n",
       "    </tr>\n",
       "    <tr>\n",
       "      <th>63</th>\n",
       "      <td>46</td>\n",
       "      <td>M</td>\n",
       "      <td>ASY</td>\n",
       "      <td>120</td>\n",
       "      <td>277</td>\n",
       "      <td>0</td>\n",
       "      <td>Normal</td>\n",
       "      <td>125</td>\n",
       "      <td>Y</td>\n",
       "      <td>1.0</td>\n",
       "      <td>Flat</td>\n",
       "      <td>1</td>\n",
       "    </tr>\n",
       "    <tr>\n",
       "      <th>101</th>\n",
       "      <td>51</td>\n",
       "      <td>M</td>\n",
       "      <td>ASY</td>\n",
       "      <td>130</td>\n",
       "      <td>179</td>\n",
       "      <td>0</td>\n",
       "      <td>Normal</td>\n",
       "      <td>100</td>\n",
       "      <td>N</td>\n",
       "      <td>0.0</td>\n",
       "      <td>Up</td>\n",
       "      <td>0</td>\n",
       "    </tr>\n",
       "    <tr>\n",
       "      <th>166</th>\n",
       "      <td>50</td>\n",
       "      <td>M</td>\n",
       "      <td>ASY</td>\n",
       "      <td>140</td>\n",
       "      <td>231</td>\n",
       "      <td>0</td>\n",
       "      <td>ST</td>\n",
       "      <td>140</td>\n",
       "      <td>Y</td>\n",
       "      <td>5.0</td>\n",
       "      <td>Flat</td>\n",
       "      <td>1</td>\n",
       "    </tr>\n",
       "    <tr>\n",
       "      <th>646</th>\n",
       "      <td>66</td>\n",
       "      <td>M</td>\n",
       "      <td>ASY</td>\n",
       "      <td>160</td>\n",
       "      <td>228</td>\n",
       "      <td>0</td>\n",
       "      <td>LVH</td>\n",
       "      <td>138</td>\n",
       "      <td>N</td>\n",
       "      <td>2.3</td>\n",
       "      <td>Up</td>\n",
       "      <td>0</td>\n",
       "    </tr>\n",
       "  </tbody>\n",
       "</table>\n",
       "</div>"
      ],
      "text/plain": [
       "     Age Sex ChestPainType  RestingBP  Cholesterol  FastingBS RestingECG  \\\n",
       "740   54   F           NAP        160          201          0     Normal   \n",
       "151   48   M           ATA        100          159          0     Normal   \n",
       "660   58   M           NAP        140          211          1        LVH   \n",
       "562   59   M           ASY        140          274          0     Normal   \n",
       "355   67   M            TA        145            0          0        LVH   \n",
       "259   55   F           ATA        122          320          0     Normal   \n",
       "63    46   M           ASY        120          277          0     Normal   \n",
       "101   51   M           ASY        130          179          0     Normal   \n",
       "166   50   M           ASY        140          231          0         ST   \n",
       "646   66   M           ASY        160          228          0        LVH   \n",
       "\n",
       "     MaxHR ExerciseAngina  Oldpeak ST_Slope  HeartDisease  \n",
       "740    163              N      0.0       Up             0  \n",
       "151    100              N      0.0       Up             0  \n",
       "660    165              N      0.0       Up             0  \n",
       "562    154              Y      2.0     Flat             0  \n",
       "355    125              N      0.0     Flat             1  \n",
       "259    155              N      0.0       Up             0  \n",
       "63     125              Y      1.0     Flat             1  \n",
       "101    100              N      0.0       Up             0  \n",
       "166    140              Y      5.0     Flat             1  \n",
       "646    138              N      2.3       Up             0  "
      ]
     },
     "execution_count": 38,
     "metadata": {},
     "output_type": "execute_result"
    }
   ],
   "source": [
    "file.sample(10)"
   ]
  },
  {
   "cell_type": "code",
   "execution_count": 50,
   "id": "4618f0e9",
   "metadata": {},
   "outputs": [],
   "source": [
    "labelSex = LabelEncoder()\n",
    "labelChestPainType = LabelEncoder()\n",
    "labelRestingECG = LabelEncoder()\n",
    "labelExerciseAngina = LabelEncoder()\n",
    "labelST_Slope = LabelEncoder()"
   ]
  },
  {
   "cell_type": "code",
   "execution_count": 51,
   "id": "5854fb3a",
   "metadata": {},
   "outputs": [],
   "source": [
    "file['Label Sex'] = labelChestPainType.fit_transform(file['Sex'])"
   ]
  },
  {
   "cell_type": "code",
   "execution_count": 54,
   "id": "0ee4ce76",
   "metadata": {},
   "outputs": [],
   "source": [
    "file['Label ChestPainType'] = labelChestPainType.fit_transform(file['ChestPainType'])"
   ]
  },
  {
   "cell_type": "code",
   "execution_count": 56,
   "id": "a18a1b92",
   "metadata": {},
   "outputs": [],
   "source": [
    "file['Label RestingECG'] = labelRestingECG.fit_transform(file['RestingECG'])"
   ]
  },
  {
   "cell_type": "code",
   "execution_count": 57,
   "id": "2067dadc",
   "metadata": {},
   "outputs": [],
   "source": [
    "file['Label ExerciseAngina'] = labelExerciseAngina.fit_transform(file['ExerciseAngina'])"
   ]
  },
  {
   "cell_type": "code",
   "execution_count": 58,
   "id": "b865456b",
   "metadata": {},
   "outputs": [],
   "source": [
    "file['Label ST_Slope'] = labelST_Slope.fit_transform(file['ST_Slope'])"
   ]
  },
  {
   "cell_type": "code",
   "execution_count": 60,
   "id": "95bafc69",
   "metadata": {},
   "outputs": [],
   "source": [
    "new_dataset = file.drop(['Sex', 'ChestPainType' , 'RestingECG', 'ExerciseAngina', 'ST_Slope'] , axis = 'columns')"
   ]
  },
  {
   "cell_type": "code",
   "execution_count": 63,
   "id": "d6748f02",
   "metadata": {},
   "outputs": [],
   "source": [
    "x_data = new_dataset"
   ]
  },
  {
   "cell_type": "code",
   "execution_count": 64,
   "id": "42edf03f",
   "metadata": {},
   "outputs": [],
   "source": [
    "y_data = new_dataset['Label Sex']"
   ]
  },
  {
   "cell_type": "code",
   "execution_count": 67,
   "id": "febd98fb",
   "metadata": {},
   "outputs": [],
   "source": [
    "x_train_data, x_test_data, y_train_data, y_test_data = train_test_split(x_data, y_data, train_size=0.8, random_state=42)"
   ]
  },
  {
   "cell_type": "code",
   "execution_count": 69,
   "id": "02e6a423",
   "metadata": {},
   "outputs": [
    {
     "data": {
      "text/plain": [
       "(734, 12)"
      ]
     },
     "execution_count": 69,
     "metadata": {},
     "output_type": "execute_result"
    }
   ],
   "source": [
    "x_train_data.sample(10)\n",
    "x_train_data.shape"
   ]
  },
  {
   "cell_type": "code",
   "execution_count": 70,
   "id": "d072d2b8",
   "metadata": {},
   "outputs": [
    {
     "data": {
      "text/plain": [
       "(184, 12)"
      ]
     },
     "execution_count": 70,
     "metadata": {},
     "output_type": "execute_result"
    }
   ],
   "source": [
    "x_test_data.sample(10)\n",
    "x_test_data.shape"
   ]
  },
  {
   "cell_type": "code",
   "execution_count": 71,
   "id": "02d0b483",
   "metadata": {},
   "outputs": [
    {
     "data": {
      "text/plain": [
       "(734,)"
      ]
     },
     "execution_count": 71,
     "metadata": {},
     "output_type": "execute_result"
    }
   ],
   "source": [
    "y_train_data.sample(10)\n",
    "y_train_data.shape"
   ]
  },
  {
   "cell_type": "code",
   "execution_count": 72,
   "id": "f4e77bae",
   "metadata": {},
   "outputs": [
    {
     "data": {
      "text/plain": [
       "(184,)"
      ]
     },
     "execution_count": 72,
     "metadata": {},
     "output_type": "execute_result"
    }
   ],
   "source": [
    "y_test_data.sample(10)\n",
    "y_test_data.shape"
   ]
  },
  {
   "cell_type": "code",
   "execution_count": 78,
   "id": "5397e009",
   "metadata": {},
   "outputs": [],
   "source": [
    "scaler = StandardScaler()"
   ]
  },
  {
   "cell_type": "code",
   "execution_count": 79,
   "id": "85495c9d",
   "metadata": {},
   "outputs": [
    {
     "data": {
      "text/plain": [
       "StandardScaler()"
      ]
     },
     "execution_count": 79,
     "metadata": {},
     "output_type": "execute_result"
    }
   ],
   "source": [
    "scaler.fit(x_train_data)"
   ]
  },
  {
   "cell_type": "code",
   "execution_count": 80,
   "id": "d558df02",
   "metadata": {},
   "outputs": [],
   "source": [
    "scaled_x_train = scaler.transform(x_train_data)\n",
    "scaled_x_test = scaler.transform(x_test_data)"
   ]
  },
  {
   "cell_type": "code",
   "execution_count": 81,
   "id": "06694f54",
   "metadata": {
    "collapsed": true
   },
   "outputs": [
    {
     "data": {
      "text/plain": [
       "array([[-1.24506731, -0.70898547,  0.372803  , ...,  0.01734236,\n",
       "        -0.83846064, -2.25746543],\n",
       "       [-1.8862362 , -0.16628515,  0.08614581, ...,  0.01734236,\n",
       "        -0.83846064,  1.07985506],\n",
       "       [ 0.25099346,  0.91911549,  0.12313384, ...,  0.01734236,\n",
       "         1.19266183, -0.58880518],\n",
       "       ...,\n",
       "       [ 0.67843939, -0.16628515,  0.49301407, ...,  0.01734236,\n",
       "         1.19266183,  1.07985506],\n",
       "       [ 0.67843939,  1.02765555, -1.84647842, ...,  1.60850411,\n",
       "         1.19266183,  1.07985506],\n",
       "       [-1.45879027,  0.91911549,  1.77834789, ...,  0.01734236,\n",
       "        -0.83846064, -0.58880518]])"
      ]
     },
     "execution_count": 81,
     "metadata": {},
     "output_type": "execute_result"
    }
   ],
   "source": [
    "scaled_x_train"
   ]
  },
  {
   "cell_type": "code",
   "execution_count": 84,
   "id": "76f1692e",
   "metadata": {},
   "outputs": [],
   "source": [
    "scaled_x_train_data = pd.DataFrame(scaled_x_train, columns = new_dataset.columns)"
   ]
  },
  {
   "cell_type": "code",
   "execution_count": 85,
   "id": "330c5c3d",
   "metadata": {},
   "outputs": [
    {
     "data": {
      "text/plain": [
       "(734, 12)"
      ]
     },
     "execution_count": 85,
     "metadata": {},
     "output_type": "execute_result"
    }
   ],
   "source": [
    "scaled_x_train_data.shape"
   ]
  },
  {
   "cell_type": "code",
   "execution_count": 87,
   "id": "58c0dfd6",
   "metadata": {
    "collapsed": true
   },
   "outputs": [
    {
     "data": {
      "text/html": [
       "<div>\n",
       "<style scoped>\n",
       "    .dataframe tbody tr th:only-of-type {\n",
       "        vertical-align: middle;\n",
       "    }\n",
       "\n",
       "    .dataframe tbody tr th {\n",
       "        vertical-align: top;\n",
       "    }\n",
       "\n",
       "    .dataframe thead th {\n",
       "        text-align: right;\n",
       "    }\n",
       "</style>\n",
       "<table border=\"1\" class=\"dataframe\">\n",
       "  <thead>\n",
       "    <tr style=\"text-align: right;\">\n",
       "      <th></th>\n",
       "      <th>Age</th>\n",
       "      <th>RestingBP</th>\n",
       "      <th>Cholesterol</th>\n",
       "      <th>FastingBS</th>\n",
       "      <th>MaxHR</th>\n",
       "      <th>Oldpeak</th>\n",
       "      <th>HeartDisease</th>\n",
       "      <th>Label Sex</th>\n",
       "      <th>Label ChestPainType</th>\n",
       "      <th>Label RestingECG</th>\n",
       "      <th>Label ExerciseAngina</th>\n",
       "      <th>Label ST_Slope</th>\n",
       "    </tr>\n",
       "  </thead>\n",
       "  <tbody>\n",
       "    <tr>\n",
       "      <th>449</th>\n",
       "      <td>1.640193</td>\n",
       "      <td>0.376415</td>\n",
       "      <td>-0.829308</td>\n",
       "      <td>1.842609</td>\n",
       "      <td>-1.073739</td>\n",
       "      <td>0.549761</td>\n",
       "      <td>0.911276</td>\n",
       "      <td>0.540605</td>\n",
       "      <td>-0.809746</td>\n",
       "      <td>0.017342</td>\n",
       "      <td>1.192662</td>\n",
       "      <td>-0.588805</td>\n",
       "    </tr>\n",
       "    <tr>\n",
       "      <th>673</th>\n",
       "      <td>-0.069591</td>\n",
       "      <td>-0.166285</td>\n",
       "      <td>-1.846478</td>\n",
       "      <td>-0.542709</td>\n",
       "      <td>-0.046558</td>\n",
       "      <td>0.087745</td>\n",
       "      <td>0.911276</td>\n",
       "      <td>0.540605</td>\n",
       "      <td>-0.809746</td>\n",
       "      <td>-1.573819</td>\n",
       "      <td>1.192662</td>\n",
       "      <td>-0.588805</td>\n",
       "    </tr>\n",
       "    <tr>\n",
       "      <th>523</th>\n",
       "      <td>-0.283314</td>\n",
       "      <td>-0.166285</td>\n",
       "      <td>0.973858</td>\n",
       "      <td>-0.542709</td>\n",
       "      <td>0.229991</td>\n",
       "      <td>0.272552</td>\n",
       "      <td>0.911276</td>\n",
       "      <td>-1.849780</td>\n",
       "      <td>-0.809746</td>\n",
       "      <td>0.017342</td>\n",
       "      <td>1.192662</td>\n",
       "      <td>-0.588805</td>\n",
       "    </tr>\n",
       "    <tr>\n",
       "      <th>490</th>\n",
       "      <td>0.464716</td>\n",
       "      <td>-1.794386</td>\n",
       "      <td>0.446779</td>\n",
       "      <td>-0.542709</td>\n",
       "      <td>-0.560148</td>\n",
       "      <td>0.087745</td>\n",
       "      <td>-1.097362</td>\n",
       "      <td>-1.849780</td>\n",
       "      <td>-0.809746</td>\n",
       "      <td>-1.573819</td>\n",
       "      <td>-0.838461</td>\n",
       "      <td>-0.588805</td>\n",
       "    </tr>\n",
       "    <tr>\n",
       "      <th>77</th>\n",
       "      <td>-1.245067</td>\n",
       "      <td>0.159335</td>\n",
       "      <td>1.066328</td>\n",
       "      <td>-0.542709</td>\n",
       "      <td>-0.441628</td>\n",
       "      <td>0.826971</td>\n",
       "      <td>0.911276</td>\n",
       "      <td>0.540605</td>\n",
       "      <td>-0.809746</td>\n",
       "      <td>0.017342</td>\n",
       "      <td>1.192662</td>\n",
       "      <td>-0.588805</td>\n",
       "    </tr>\n",
       "    <tr>\n",
       "      <th>69</th>\n",
       "      <td>-0.390175</td>\n",
       "      <td>-0.708985</td>\n",
       "      <td>0.178616</td>\n",
       "      <td>-0.542709</td>\n",
       "      <td>0.862102</td>\n",
       "      <td>0.642164</td>\n",
       "      <td>-1.097362</td>\n",
       "      <td>-1.849780</td>\n",
       "      <td>1.316743</td>\n",
       "      <td>0.017342</td>\n",
       "      <td>-0.838461</td>\n",
       "      <td>-0.588805</td>\n",
       "    </tr>\n",
       "    <tr>\n",
       "      <th>674</th>\n",
       "      <td>0.144132</td>\n",
       "      <td>-0.708985</td>\n",
       "      <td>0.187863</td>\n",
       "      <td>-0.542709</td>\n",
       "      <td>-0.086065</td>\n",
       "      <td>-0.836286</td>\n",
       "      <td>-1.097362</td>\n",
       "      <td>0.540605</td>\n",
       "      <td>1.316743</td>\n",
       "      <td>-1.573819</td>\n",
       "      <td>-0.838461</td>\n",
       "      <td>1.079855</td>\n",
       "    </tr>\n",
       "    <tr>\n",
       "      <th>599</th>\n",
       "      <td>1.747054</td>\n",
       "      <td>1.461816</td>\n",
       "      <td>0.640966</td>\n",
       "      <td>-0.542709</td>\n",
       "      <td>-0.955218</td>\n",
       "      <td>1.843405</td>\n",
       "      <td>0.911276</td>\n",
       "      <td>0.540605</td>\n",
       "      <td>1.316743</td>\n",
       "      <td>0.017342</td>\n",
       "      <td>1.192662</td>\n",
       "      <td>-0.588805</td>\n",
       "    </tr>\n",
       "    <tr>\n",
       "      <th>184</th>\n",
       "      <td>0.571578</td>\n",
       "      <td>-0.600445</td>\n",
       "      <td>0.308074</td>\n",
       "      <td>-0.542709</td>\n",
       "      <td>-0.757683</td>\n",
       "      <td>0.364955</td>\n",
       "      <td>0.911276</td>\n",
       "      <td>0.540605</td>\n",
       "      <td>-0.809746</td>\n",
       "      <td>0.017342</td>\n",
       "      <td>1.192662</td>\n",
       "      <td>-2.257465</td>\n",
       "    </tr>\n",
       "    <tr>\n",
       "      <th>83</th>\n",
       "      <td>-0.710760</td>\n",
       "      <td>-1.251686</td>\n",
       "      <td>0.696448</td>\n",
       "      <td>-0.542709</td>\n",
       "      <td>-0.718176</td>\n",
       "      <td>0.087745</td>\n",
       "      <td>0.911276</td>\n",
       "      <td>0.540605</td>\n",
       "      <td>-0.809746</td>\n",
       "      <td>-1.573819</td>\n",
       "      <td>1.192662</td>\n",
       "      <td>-0.588805</td>\n",
       "    </tr>\n",
       "  </tbody>\n",
       "</table>\n",
       "</div>"
      ],
      "text/plain": [
       "          Age  RestingBP  Cholesterol  FastingBS     MaxHR   Oldpeak  \\\n",
       "449  1.640193   0.376415    -0.829308   1.842609 -1.073739  0.549761   \n",
       "673 -0.069591  -0.166285    -1.846478  -0.542709 -0.046558  0.087745   \n",
       "523 -0.283314  -0.166285     0.973858  -0.542709  0.229991  0.272552   \n",
       "490  0.464716  -1.794386     0.446779  -0.542709 -0.560148  0.087745   \n",
       "77  -1.245067   0.159335     1.066328  -0.542709 -0.441628  0.826971   \n",
       "69  -0.390175  -0.708985     0.178616  -0.542709  0.862102  0.642164   \n",
       "674  0.144132  -0.708985     0.187863  -0.542709 -0.086065 -0.836286   \n",
       "599  1.747054   1.461816     0.640966  -0.542709 -0.955218  1.843405   \n",
       "184  0.571578  -0.600445     0.308074  -0.542709 -0.757683  0.364955   \n",
       "83  -0.710760  -1.251686     0.696448  -0.542709 -0.718176  0.087745   \n",
       "\n",
       "     HeartDisease  Label Sex  Label ChestPainType  Label RestingECG  \\\n",
       "449      0.911276   0.540605            -0.809746          0.017342   \n",
       "673      0.911276   0.540605            -0.809746         -1.573819   \n",
       "523      0.911276  -1.849780            -0.809746          0.017342   \n",
       "490     -1.097362  -1.849780            -0.809746         -1.573819   \n",
       "77       0.911276   0.540605            -0.809746          0.017342   \n",
       "69      -1.097362  -1.849780             1.316743          0.017342   \n",
       "674     -1.097362   0.540605             1.316743         -1.573819   \n",
       "599      0.911276   0.540605             1.316743          0.017342   \n",
       "184      0.911276   0.540605            -0.809746          0.017342   \n",
       "83       0.911276   0.540605            -0.809746         -1.573819   \n",
       "\n",
       "     Label ExerciseAngina  Label ST_Slope  \n",
       "449              1.192662       -0.588805  \n",
       "673              1.192662       -0.588805  \n",
       "523              1.192662       -0.588805  \n",
       "490             -0.838461       -0.588805  \n",
       "77               1.192662       -0.588805  \n",
       "69              -0.838461       -0.588805  \n",
       "674             -0.838461        1.079855  \n",
       "599              1.192662       -0.588805  \n",
       "184              1.192662       -2.257465  \n",
       "83               1.192662       -0.588805  "
      ]
     },
     "execution_count": 87,
     "metadata": {},
     "output_type": "execute_result"
    }
   ],
   "source": [
    "scaled_x_train_data.sample(10)"
   ]
  },
  {
   "cell_type": "code",
   "execution_count": 88,
   "id": "feaaf426",
   "metadata": {
    "collapsed": true
   },
   "outputs": [
    {
     "data": {
      "text/plain": [
       "array([[ 0.99902384,  0.37641517, -0.04331227, ...,  0.01734236,\n",
       "        -0.83846064,  1.07985506],\n",
       "       [-0.06959099,  0.64776533,  2.94347064, ...,  0.01734236,\n",
       "        -0.83846064, -0.58880518],\n",
       "       [ 1.2127468 ,  1.46181581, -1.84647842, ...,  1.60850411,\n",
       "        -0.83846064, -0.58880518],\n",
       "       ...,\n",
       "       [ 1.10588532,  0.4306852 ,  0.40979102, ...,  1.60850411,\n",
       "         1.19266183, -0.58880518],\n",
       "       [-0.49703693, -0.16628515,  0.61322515, ...,  0.01734236,\n",
       "        -0.83846064,  1.07985506],\n",
       "       [ 1.10588532,  0.5934953 , -1.84647842, ...,  1.60850411,\n",
       "         1.19266183, -0.58880518]])"
      ]
     },
     "execution_count": 88,
     "metadata": {},
     "output_type": "execute_result"
    }
   ],
   "source": [
    "scaled_x_test"
   ]
  },
  {
   "cell_type": "code",
   "execution_count": 89,
   "id": "1d43d65f",
   "metadata": {},
   "outputs": [],
   "source": [
    "scaled_x_test_data = pd.DataFrame(scaled_x_test, columns = new_dataset.columns)"
   ]
  },
  {
   "cell_type": "code",
   "execution_count": 90,
   "id": "977d96e8",
   "metadata": {},
   "outputs": [
    {
     "data": {
      "text/plain": [
       "(184, 12)"
      ]
     },
     "execution_count": 90,
     "metadata": {},
     "output_type": "execute_result"
    }
   ],
   "source": [
    "scaled_x_test_data.shape"
   ]
  },
  {
   "cell_type": "code",
   "execution_count": 91,
   "id": "933c5220",
   "metadata": {
    "collapsed": true
   },
   "outputs": [
    {
     "data": {
      "text/html": [
       "<div>\n",
       "<style scoped>\n",
       "    .dataframe tbody tr th:only-of-type {\n",
       "        vertical-align: middle;\n",
       "    }\n",
       "\n",
       "    .dataframe tbody tr th {\n",
       "        vertical-align: top;\n",
       "    }\n",
       "\n",
       "    .dataframe thead th {\n",
       "        text-align: right;\n",
       "    }\n",
       "</style>\n",
       "<table border=\"1\" class=\"dataframe\">\n",
       "  <thead>\n",
       "    <tr style=\"text-align: right;\">\n",
       "      <th></th>\n",
       "      <th>Age</th>\n",
       "      <th>RestingBP</th>\n",
       "      <th>Cholesterol</th>\n",
       "      <th>FastingBS</th>\n",
       "      <th>MaxHR</th>\n",
       "      <th>Oldpeak</th>\n",
       "      <th>HeartDisease</th>\n",
       "      <th>Label Sex</th>\n",
       "      <th>Label ChestPainType</th>\n",
       "      <th>Label RestingECG</th>\n",
       "      <th>Label ExerciseAngina</th>\n",
       "      <th>Label ST_Slope</th>\n",
       "    </tr>\n",
       "  </thead>\n",
       "  <tbody>\n",
       "    <tr>\n",
       "      <th>161</th>\n",
       "      <td>-1.993098</td>\n",
       "      <td>0.376415</td>\n",
       "      <td>-0.302228</td>\n",
       "      <td>-0.542709</td>\n",
       "      <td>0.546047</td>\n",
       "      <td>-0.836286</td>\n",
       "      <td>-1.097362</td>\n",
       "      <td>-1.849780</td>\n",
       "      <td>-0.809746</td>\n",
       "      <td>0.017342</td>\n",
       "      <td>-0.838461</td>\n",
       "      <td>1.079855</td>\n",
       "    </tr>\n",
       "    <tr>\n",
       "      <th>183</th>\n",
       "      <td>1.105885</td>\n",
       "      <td>0.593495</td>\n",
       "      <td>-1.846478</td>\n",
       "      <td>-0.542709</td>\n",
       "      <td>-0.560148</td>\n",
       "      <td>0.087745</td>\n",
       "      <td>0.911276</td>\n",
       "      <td>0.540605</td>\n",
       "      <td>-0.809746</td>\n",
       "      <td>1.608504</td>\n",
       "      <td>1.192662</td>\n",
       "      <td>-0.588805</td>\n",
       "    </tr>\n",
       "    <tr>\n",
       "      <th>13</th>\n",
       "      <td>0.250993</td>\n",
       "      <td>-0.708985</td>\n",
       "      <td>0.335815</td>\n",
       "      <td>-0.542709</td>\n",
       "      <td>1.652241</td>\n",
       "      <td>-0.097061</td>\n",
       "      <td>-1.097362</td>\n",
       "      <td>0.540605</td>\n",
       "      <td>0.253498</td>\n",
       "      <td>0.017342</td>\n",
       "      <td>-0.838461</td>\n",
       "      <td>1.079855</td>\n",
       "    </tr>\n",
       "    <tr>\n",
       "      <th>7</th>\n",
       "      <td>1.640193</td>\n",
       "      <td>0.484955</td>\n",
       "      <td>0.659460</td>\n",
       "      <td>-0.542709</td>\n",
       "      <td>-0.402121</td>\n",
       "      <td>-0.559077</td>\n",
       "      <td>-1.097362</td>\n",
       "      <td>0.540605</td>\n",
       "      <td>1.316743</td>\n",
       "      <td>-1.573819</td>\n",
       "      <td>-0.838461</td>\n",
       "      <td>1.079855</td>\n",
       "    </tr>\n",
       "    <tr>\n",
       "      <th>56</th>\n",
       "      <td>0.571578</td>\n",
       "      <td>-0.166285</td>\n",
       "      <td>-0.108041</td>\n",
       "      <td>-0.542709</td>\n",
       "      <td>-0.481135</td>\n",
       "      <td>0.087745</td>\n",
       "      <td>-1.097362</td>\n",
       "      <td>-1.849780</td>\n",
       "      <td>0.253498</td>\n",
       "      <td>0.017342</td>\n",
       "      <td>-0.838461</td>\n",
       "      <td>-0.588805</td>\n",
       "    </tr>\n",
       "    <tr>\n",
       "      <th>142</th>\n",
       "      <td>-0.176452</td>\n",
       "      <td>-2.065736</td>\n",
       "      <td>-1.846478</td>\n",
       "      <td>1.842609</td>\n",
       "      <td>-2.140427</td>\n",
       "      <td>-0.097061</td>\n",
       "      <td>0.911276</td>\n",
       "      <td>0.540605</td>\n",
       "      <td>-0.809746</td>\n",
       "      <td>0.017342</td>\n",
       "      <td>1.192662</td>\n",
       "      <td>-0.588805</td>\n",
       "    </tr>\n",
       "    <tr>\n",
       "      <th>65</th>\n",
       "      <td>-0.283314</td>\n",
       "      <td>-0.274825</td>\n",
       "      <td>-1.846478</td>\n",
       "      <td>1.842609</td>\n",
       "      <td>-0.441628</td>\n",
       "      <td>0.272552</td>\n",
       "      <td>0.911276</td>\n",
       "      <td>0.540605</td>\n",
       "      <td>-0.809746</td>\n",
       "      <td>1.608504</td>\n",
       "      <td>1.192662</td>\n",
       "      <td>-0.588805</td>\n",
       "    </tr>\n",
       "    <tr>\n",
       "      <th>29</th>\n",
       "      <td>-2.313682</td>\n",
       "      <td>-1.251686</td>\n",
       "      <td>0.234098</td>\n",
       "      <td>-0.542709</td>\n",
       "      <td>1.889283</td>\n",
       "      <td>-0.836286</td>\n",
       "      <td>-1.097362</td>\n",
       "      <td>0.540605</td>\n",
       "      <td>0.253498</td>\n",
       "      <td>0.017342</td>\n",
       "      <td>-0.838461</td>\n",
       "      <td>1.079855</td>\n",
       "    </tr>\n",
       "    <tr>\n",
       "      <th>113</th>\n",
       "      <td>-1.031344</td>\n",
       "      <td>-1.251686</td>\n",
       "      <td>-0.024818</td>\n",
       "      <td>-0.542709</td>\n",
       "      <td>1.612735</td>\n",
       "      <td>-0.836286</td>\n",
       "      <td>0.911276</td>\n",
       "      <td>0.540605</td>\n",
       "      <td>-0.809746</td>\n",
       "      <td>-1.573819</td>\n",
       "      <td>-0.838461</td>\n",
       "      <td>1.079855</td>\n",
       "    </tr>\n",
       "    <tr>\n",
       "      <th>148</th>\n",
       "      <td>0.464716</td>\n",
       "      <td>0.105065</td>\n",
       "      <td>0.206357</td>\n",
       "      <td>-0.542709</td>\n",
       "      <td>-1.429302</td>\n",
       "      <td>-0.836286</td>\n",
       "      <td>-1.097362</td>\n",
       "      <td>0.540605</td>\n",
       "      <td>-0.809746</td>\n",
       "      <td>0.017342</td>\n",
       "      <td>-0.838461</td>\n",
       "      <td>1.079855</td>\n",
       "    </tr>\n",
       "  </tbody>\n",
       "</table>\n",
       "</div>"
      ],
      "text/plain": [
       "          Age  RestingBP  Cholesterol  FastingBS     MaxHR   Oldpeak  \\\n",
       "161 -1.993098   0.376415    -0.302228  -0.542709  0.546047 -0.836286   \n",
       "183  1.105885   0.593495    -1.846478  -0.542709 -0.560148  0.087745   \n",
       "13   0.250993  -0.708985     0.335815  -0.542709  1.652241 -0.097061   \n",
       "7    1.640193   0.484955     0.659460  -0.542709 -0.402121 -0.559077   \n",
       "56   0.571578  -0.166285    -0.108041  -0.542709 -0.481135  0.087745   \n",
       "142 -0.176452  -2.065736    -1.846478   1.842609 -2.140427 -0.097061   \n",
       "65  -0.283314  -0.274825    -1.846478   1.842609 -0.441628  0.272552   \n",
       "29  -2.313682  -1.251686     0.234098  -0.542709  1.889283 -0.836286   \n",
       "113 -1.031344  -1.251686    -0.024818  -0.542709  1.612735 -0.836286   \n",
       "148  0.464716   0.105065     0.206357  -0.542709 -1.429302 -0.836286   \n",
       "\n",
       "     HeartDisease  Label Sex  Label ChestPainType  Label RestingECG  \\\n",
       "161     -1.097362  -1.849780            -0.809746          0.017342   \n",
       "183      0.911276   0.540605            -0.809746          1.608504   \n",
       "13      -1.097362   0.540605             0.253498          0.017342   \n",
       "7       -1.097362   0.540605             1.316743         -1.573819   \n",
       "56      -1.097362  -1.849780             0.253498          0.017342   \n",
       "142      0.911276   0.540605            -0.809746          0.017342   \n",
       "65       0.911276   0.540605            -0.809746          1.608504   \n",
       "29      -1.097362   0.540605             0.253498          0.017342   \n",
       "113      0.911276   0.540605            -0.809746         -1.573819   \n",
       "148     -1.097362   0.540605            -0.809746          0.017342   \n",
       "\n",
       "     Label ExerciseAngina  Label ST_Slope  \n",
       "161             -0.838461        1.079855  \n",
       "183              1.192662       -0.588805  \n",
       "13              -0.838461        1.079855  \n",
       "7               -0.838461        1.079855  \n",
       "56              -0.838461       -0.588805  \n",
       "142              1.192662       -0.588805  \n",
       "65               1.192662       -0.588805  \n",
       "29              -0.838461        1.079855  \n",
       "113             -0.838461        1.079855  \n",
       "148             -0.838461        1.079855  "
      ]
     },
     "execution_count": 91,
     "metadata": {},
     "output_type": "execute_result"
    }
   ],
   "source": [
    "scaled_x_test_data.sample(10)"
   ]
  },
  {
   "cell_type": "markdown",
   "id": "3c81f859",
   "metadata": {},
   "source": [
    "<h2>Agorithm Applied</h2>"
   ]
  },
  {
   "cell_type": "code",
   "execution_count": 92,
   "id": "41259f28",
   "metadata": {},
   "outputs": [],
   "source": [
    "RF_model = RandomForestClassifier(n_estimators = 100)"
   ]
  },
  {
   "cell_type": "code",
   "execution_count": 93,
   "id": "9b8927b8",
   "metadata": {},
   "outputs": [],
   "source": [
    "RF_Classifier = RF_model.fit(x_train_data, y_train_data)"
   ]
  },
  {
   "cell_type": "code",
   "execution_count": 94,
   "id": "287eaf1f",
   "metadata": {},
   "outputs": [
    {
     "data": {
      "text/plain": [
       "RandomForestClassifier()"
      ]
     },
     "execution_count": 94,
     "metadata": {},
     "output_type": "execute_result"
    }
   ],
   "source": [
    "RF_Classifier"
   ]
  },
  {
   "cell_type": "code",
   "execution_count": 95,
   "id": "e704a0c6",
   "metadata": {},
   "outputs": [],
   "source": [
    "RF_Classifier_scaled_data = RF_model.fit(scaled_x_train_data, y_train_data)"
   ]
  },
  {
   "cell_type": "code",
   "execution_count": 96,
   "id": "de077b80",
   "metadata": {},
   "outputs": [
    {
     "data": {
      "text/plain": [
       "RandomForestClassifier()"
      ]
     },
     "execution_count": 96,
     "metadata": {},
     "output_type": "execute_result"
    }
   ],
   "source": [
    "RF_Classifier_scaled_data"
   ]
  },
  {
   "cell_type": "code",
   "execution_count": 97,
   "id": "aa8490bc",
   "metadata": {},
   "outputs": [],
   "source": [
    "RF_predictions = RF_Classifier.predict(x_test_data)"
   ]
  },
  {
   "cell_type": "code",
   "execution_count": 98,
   "id": "222150f9",
   "metadata": {},
   "outputs": [
    {
     "data": {
      "text/plain": [
       "array([1, 1, 1, 1, 1, 1, 1, 1, 1, 1, 1, 1, 1, 1, 1, 1, 1, 1, 1, 1, 1, 1,\n",
       "       1, 1, 1, 1, 1, 1, 1, 1, 1, 1, 1, 1, 1, 1, 1, 1, 1, 1, 1, 1, 1, 1,\n",
       "       1, 1, 1, 1, 1, 1, 1, 1, 1, 1, 1, 1, 1, 1, 1, 1, 1, 1, 1, 1, 1, 1,\n",
       "       1, 1, 1, 1, 1, 1, 1, 1, 1, 1, 1, 1, 1, 1, 1, 1, 1, 1, 1, 1, 1, 1,\n",
       "       1, 1, 1, 1, 1, 1, 1, 1, 1, 1, 1, 1, 1, 1, 1, 1, 1, 1, 1, 1, 1, 1,\n",
       "       1, 1, 1, 1, 1, 1, 1, 1, 1, 1, 1, 1, 1, 1, 1, 1, 1, 1, 1, 1, 1, 1,\n",
       "       1, 1, 1, 1, 1, 1, 1, 1, 1, 1, 1, 1, 1, 1, 1, 1, 1, 1, 1, 1, 1, 1,\n",
       "       1, 1, 1, 1, 1, 1, 1, 1, 1, 1, 1, 1, 1, 1, 1, 1, 1, 1, 1, 1, 1, 1,\n",
       "       1, 1, 1, 1, 1, 1, 1, 1])"
      ]
     },
     "execution_count": 98,
     "metadata": {},
     "output_type": "execute_result"
    }
   ],
   "source": [
    "RF_predictions"
   ]
  },
  {
   "cell_type": "code",
   "execution_count": 99,
   "id": "e5a0105e",
   "metadata": {},
   "outputs": [],
   "source": [
    "RF_scaled_data_predictions = RF_Classifier_scaled_data.predict(scaled_x_test_data)"
   ]
  },
  {
   "cell_type": "code",
   "execution_count": 100,
   "id": "3497abf0",
   "metadata": {},
   "outputs": [
    {
     "data": {
      "text/plain": [
       "array([0, 1, 1, 1, 1, 1, 1, 1, 1, 1, 1, 1, 0, 1, 1, 1, 0, 1, 1, 0, 1, 0,\n",
       "       1, 1, 1, 1, 1, 1, 1, 1, 1, 1, 1, 1, 0, 1, 1, 1, 1, 1, 1, 1, 1, 1,\n",
       "       0, 1, 1, 1, 1, 1, 1, 1, 1, 1, 1, 0, 0, 1, 1, 1, 1, 1, 0, 1, 1, 1,\n",
       "       1, 1, 1, 1, 1, 1, 1, 1, 1, 1, 1, 1, 1, 1, 1, 1, 1, 1, 1, 0, 1, 1,\n",
       "       0, 1, 0, 1, 1, 1, 1, 1, 1, 1, 1, 0, 1, 1, 1, 1, 1, 1, 0, 1, 1, 1,\n",
       "       1, 1, 1, 1, 1, 0, 1, 1, 1, 1, 1, 1, 1, 1, 1, 1, 0, 0, 1, 1, 1, 1,\n",
       "       1, 1, 1, 1, 1, 1, 0, 1, 1, 1, 1, 1, 1, 1, 1, 0, 1, 1, 1, 0, 1, 0,\n",
       "       1, 1, 1, 1, 1, 1, 1, 0, 1, 0, 1, 1, 1, 1, 1, 1, 1, 1, 1, 0, 1, 1,\n",
       "       1, 1, 1, 0, 0, 1, 1, 1])"
      ]
     },
     "execution_count": 100,
     "metadata": {},
     "output_type": "execute_result"
    }
   ],
   "source": [
    "RF_scaled_data_predictions"
   ]
  },
  {
   "cell_type": "code",
   "execution_count": 107,
   "id": "c2d8e62f",
   "metadata": {},
   "outputs": [
    {
     "name": "stdout",
     "output_type": "stream",
     "text": [
      "Accuracy of unscaled data: 0.8532608695652174\n"
     ]
    }
   ],
   "source": [
    "print('Accuracy of unscaled data:', accuracy_score(y_test_data, RF_predictions))"
   ]
  },
  {
   "cell_type": "code",
   "execution_count": 108,
   "id": "cba728a4",
   "metadata": {},
   "outputs": [
    {
     "name": "stdout",
     "output_type": "stream",
     "text": [
      "Accuracy of scaled data: 1.0\n"
     ]
    }
   ],
   "source": [
    "print('Accuracy of scaled data:', accuracy_score(y_test_data, RF_scaled_data_predictions))"
   ]
  }
 ],
 "metadata": {
  "kernelspec": {
   "display_name": "Python 3 (ipykernel)",
   "language": "python",
   "name": "python3"
  },
  "language_info": {
   "codemirror_mode": {
    "name": "ipython",
    "version": 3
   },
   "file_extension": ".py",
   "mimetype": "text/x-python",
   "name": "python",
   "nbconvert_exporter": "python",
   "pygments_lexer": "ipython3",
   "version": "3.9.12"
  }
 },
 "nbformat": 4,
 "nbformat_minor": 5
}
